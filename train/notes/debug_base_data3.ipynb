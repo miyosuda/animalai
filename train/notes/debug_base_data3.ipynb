{
 "cells": [
  {
   "cell_type": "code",
   "execution_count": 1,
   "metadata": {},
   "outputs": [],
   "source": [
    "import numpy as np\n",
    "import matplotlib.pyplot as plt\n",
    "%matplotlib inline"
   ]
  },
  {
   "cell_type": "code",
   "execution_count": 2,
   "metadata": {},
   "outputs": [],
   "source": [
    "data_path = \"../base_data/infos.npz\"\n",
    "data_all = np.load(data_path)\n",
    "\n",
    "data_actions = data_all[\"actions\"]\n",
    "data_positions = data_all[\"positions\"]\n",
    "data_angles = data_all[\"angles\"]\n",
    "data_rewards = data_all[\"rewards\"]\n",
    "data_dones = data_all[\"dones\"]"
   ]
  },
  {
   "cell_type": "code",
   "execution_count": 19,
   "metadata": {},
   "outputs": [],
   "source": [
    "frame_size = len(data_dones)\n",
    "\n",
    "seq_start_index = 0\n",
    "seq_length = 20\n",
    "\n",
    "seq_start_indices = []\n",
    "\n",
    "while(seq_start_index < frame_size):\n",
    "    for i in range(seq_length):\n",
    "        index = seq_start_index + i\n",
    "\n",
    "        if i == seq_length-1:\n",
    "            seq_start_indices.append(seq_start_index)\n",
    "            # 最後までシーケンスを流せた\n",
    "            seq_start_index = index+1            \n",
    "            break\n",
    "        elif data_dones[index] == True:\n",
    "            # このseqは無効なので捨てる\n",
    "            seq_start_index = index+1\n",
    "            break\n",
    "        elif index >= frame_size-1:\n",
    "            # 最後まできたので無効として外側のループを抜ける\n",
    "            seq_start_index = index+1\n",
    "            break"
   ]
  },
  {
   "cell_type": "code",
   "execution_count": 20,
   "metadata": {},
   "outputs": [],
   "source": [
    "done_indices = []\n",
    "\n",
    "for i, done in enumerate(data_dones):\n",
    "    if done:\n",
    "        done_indices.append(i)"
   ]
  },
  {
   "cell_type": "code",
   "execution_count": 21,
   "metadata": {},
   "outputs": [
    {
     "data": {
      "text/plain": [
       "[31, 70, 245, 272, 422, 580, 684, 728, 761, 1061]"
      ]
     },
     "execution_count": 21,
     "metadata": {},
     "output_type": "execute_result"
    }
   ],
   "source": [
    "done_indices[0:10]"
   ]
  },
  {
   "cell_type": "code",
   "execution_count": 22,
   "metadata": {},
   "outputs": [
    {
     "data": {
      "text/plain": [
       "[0, 32, 71, 91, 111, 131, 151, 171, 191, 211, 246, 273]"
      ]
     },
     "execution_count": 22,
     "metadata": {},
     "output_type": "execute_result"
    }
   ],
   "source": [
    "seq_start_indices[0:12]"
   ]
  },
  {
   "cell_type": "code",
   "execution_count": 23,
   "metadata": {},
   "outputs": [
    {
     "data": {
      "text/plain": [
       "[29780, 29800, 29820, 29840, 29860, 29880, 29900, 29921, 29941, 29961]"
      ]
     },
     "execution_count": 23,
     "metadata": {},
     "output_type": "execute_result"
    }
   ],
   "source": [
    "seq_start_indices[-10:]"
   ]
  },
  {
   "cell_type": "code",
   "execution_count": null,
   "metadata": {},
   "outputs": [],
   "source": []
  }
 ],
 "metadata": {
  "kernelspec": {
   "display_name": "Python 3",
   "language": "python",
   "name": "python3"
  },
  "language_info": {
   "codemirror_mode": {
    "name": "ipython",
    "version": 3
   },
   "file_extension": ".py",
   "mimetype": "text/x-python",
   "name": "python",
   "nbconvert_exporter": "python",
   "pygments_lexer": "ipython3",
   "version": "3.6.5"
  }
 },
 "nbformat": 4,
 "nbformat_minor": 2
}
